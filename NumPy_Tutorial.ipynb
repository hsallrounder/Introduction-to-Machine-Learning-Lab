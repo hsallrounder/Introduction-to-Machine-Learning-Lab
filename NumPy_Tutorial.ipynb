{
  "nbformat": 4,
  "nbformat_minor": 0,
  "metadata": {
    "kernelspec": {
      "display_name": "Python 3",
      "language": "python",
      "name": "python3"
    },
    "language_info": {
      "codemirror_mode": {
        "name": "ipython",
        "version": 3
      },
      "file_extension": ".py",
      "mimetype": "text/x-python",
      "name": "python",
      "nbconvert_exporter": "python",
      "pygments_lexer": "ipython3",
      "version": "3.7.4"
    },
    "colab": {
      "provenance": [],
      "include_colab_link": true
    }
  },
  "cells": [
    {
      "cell_type": "markdown",
      "metadata": {
        "id": "view-in-github",
        "colab_type": "text"
      },
      "source": [
        "<a href=\"https://colab.research.google.com/github/hsallrounder/Introduction-to-Machine-Learning-Lab/blob/master/NumPy_Tutorial.ipynb\" target=\"_parent\"><img src=\"https://colab.research.google.com/assets/colab-badge.svg\" alt=\"Open In Colab\"/></a>"
      ]
    },
    {
      "cell_type": "markdown",
      "metadata": {
        "id": "Uo_1wutwZGvG"
      },
      "source": [
        "# What is NumPy Array\n",
        "- A numpy array is a grid of values, all of the same type, and is indexed by a tuple of nonnegative integers.\n",
        "- NumPy arrays facilitate advanced mathematical and other types of operations on large numbers of data. Typically, such operations are executed more efficiently \n",
        "- NumPy is much faster compare to Python list."
      ]
    },
    {
      "cell_type": "markdown",
      "source": [],
      "metadata": {
        "id": "XGZM3prCVJ_g"
      }
    },
    {
      "cell_type": "markdown",
      "metadata": {
        "id": "3pOXuweeZGvT"
      },
      "source": [
        "# Difference between NumPy array and Python List"
      ]
    },
    {
      "cell_type": "code",
      "metadata": {
        "colab": {
          "base_uri": "https://localhost:8080/"
        },
        "id": "kufk4sIqZGvV",
        "outputId": "23475807-f277-42ab-c159-dc6c5155d820"
      },
      "source": [
        "#python list\n",
        "%timeit [i**2 for i in range(1,4)]"
      ],
      "execution_count": null,
      "outputs": [
        {
          "output_type": "stream",
          "name": "stdout",
          "text": [
            "1.23 µs ± 211 ns per loop (mean ± std. dev. of 7 runs, 100000 loops each)\n"
          ]
        }
      ]
    },
    {
      "cell_type": "code",
      "metadata": {
        "colab": {
          "base_uri": "https://localhost:8080/"
        },
        "id": "9zBi5XyEZGvb",
        "outputId": "c7fb8ad0-f66b-4a36-b714-d120c7d88222"
      },
      "source": [
        "#NumPy array\n",
        "import numpy as np\n",
        "%timeit np.arange(1,4)**2\n"
      ],
      "execution_count": null,
      "outputs": [
        {
          "output_type": "stream",
          "name": "stdout",
          "text": [
            "1.97 µs ± 555 ns per loop (mean ± std. dev. of 7 runs, 1000000 loops each)\n"
          ]
        }
      ]
    },
    {
      "cell_type": "code",
      "metadata": {
        "colab": {
          "base_uri": "https://localhost:8080/"
        },
        "id": "ALScSoTvZGvc",
        "outputId": "28dc1625-6072-41bb-db3f-6da6093c146e"
      },
      "source": [
        "#Big size python list\n",
        "%timeit [i**2 for i in range(1,10000)]"
      ],
      "execution_count": null,
      "outputs": [
        {
          "output_type": "stream",
          "name": "stdout",
          "text": [
            "2.93 ms ± 97.1 µs per loop (mean ± std. dev. of 7 runs, 100 loops each)\n"
          ]
        }
      ]
    },
    {
      "cell_type": "code",
      "metadata": {
        "colab": {
          "base_uri": "https://localhost:8080/"
        },
        "id": "Hg5QNScbZGve",
        "outputId": "ae168d42-5006-4533-a0f8-15713436f83a"
      },
      "source": [
        "#NumPy array\n",
        "%timeit np.arange(1,10000)**2"
      ],
      "execution_count": null,
      "outputs": [
        {
          "output_type": "stream",
          "name": "stdout",
          "text": [
            "16.3 µs ± 304 ns per loop (mean ± std. dev. of 7 runs, 100000 loops each)\n"
          ]
        }
      ]
    },
    {
      "cell_type": "markdown",
      "metadata": {
        "id": "c18jDGJdZGvf"
      },
      "source": [
        "# NumPy array"
      ]
    },
    {
      "cell_type": "code",
      "metadata": {
        "id": "XfEuatXyZGvg"
      },
      "source": [
        "import numpy as np"
      ],
      "execution_count": null,
      "outputs": []
    },
    {
      "cell_type": "code",
      "metadata": {
        "id": "o2YEGfAwZGvh"
      },
      "source": [
        "arr=np.array([1,2,3,4])"
      ],
      "execution_count": null,
      "outputs": []
    },
    {
      "cell_type": "code",
      "metadata": {
        "colab": {
          "base_uri": "https://localhost:8080/"
        },
        "id": "0oPH5xm-ZGvi",
        "outputId": "91661fa8-1204-4344-b3b8-a9ab7792b339"
      },
      "source": [
        "arr"
      ],
      "execution_count": null,
      "outputs": [
        {
          "output_type": "execute_result",
          "data": {
            "text/plain": [
              "array([1, 2, 3, 4])"
            ]
          },
          "metadata": {},
          "execution_count": 7
        }
      ]
    },
    {
      "cell_type": "code",
      "metadata": {
        "colab": {
          "base_uri": "https://localhost:8080/"
        },
        "id": "a-l2hFBxZGvk",
        "outputId": "a2afd7d0-8748-41d5-e737-d71915386410"
      },
      "source": [
        "arr.size"
      ],
      "execution_count": null,
      "outputs": [
        {
          "output_type": "execute_result",
          "data": {
            "text/plain": [
              "4"
            ]
          },
          "metadata": {},
          "execution_count": 8
        }
      ]
    },
    {
      "cell_type": "code",
      "metadata": {
        "colab": {
          "base_uri": "https://localhost:8080/"
        },
        "id": "PEOyLzX2ZGvl",
        "outputId": "4fb088d0-2307-419d-d0ea-44c511e51073"
      },
      "source": [
        "arr.ndim"
      ],
      "execution_count": null,
      "outputs": [
        {
          "output_type": "execute_result",
          "data": {
            "text/plain": [
              "1"
            ]
          },
          "metadata": {},
          "execution_count": 9
        }
      ]
    },
    {
      "cell_type": "code",
      "metadata": {
        "colab": {
          "base_uri": "https://localhost:8080/"
        },
        "id": "bCl8BbJ_ZGvm",
        "outputId": "cf9dd631-c5d8-43e4-9a3b-473bd387f2c9"
      },
      "source": [
        "arr.shape"
      ],
      "execution_count": null,
      "outputs": [
        {
          "output_type": "execute_result",
          "data": {
            "text/plain": [
              "(4,)"
            ]
          },
          "metadata": {},
          "execution_count": 10
        }
      ]
    },
    {
      "cell_type": "markdown",
      "metadata": {
        "id": "i7R6XnN3ZGvn"
      },
      "source": [
        "# Continue"
      ]
    },
    {
      "cell_type": "markdown",
      "metadata": {
        "id": "sN6j7uuJZGvo"
      },
      "source": [
        "# reshape function()"
      ]
    },
    {
      "cell_type": "code",
      "metadata": {
        "colab": {
          "base_uri": "https://localhost:8080/"
        },
        "id": "4kP-BFv8ZGvp",
        "outputId": "dc2c2de1-e60f-4cb0-f2f2-822d3c28a583"
      },
      "source": [
        "arr=np.array([1,2,3,4,5,6,7,8,9]).reshape(3,3)\n",
        "arr"
      ],
      "execution_count": null,
      "outputs": [
        {
          "output_type": "execute_result",
          "data": {
            "text/plain": [
              "array([[1, 2, 3],\n",
              "       [4, 5, 6],\n",
              "       [7, 8, 9]])"
            ]
          },
          "metadata": {},
          "execution_count": 11
        }
      ]
    },
    {
      "cell_type": "code",
      "metadata": {
        "colab": {
          "base_uri": "https://localhost:8080/"
        },
        "id": "ULSQOjh0ZGvq",
        "outputId": "4cad6485-7940-4dd7-c91e-8465442e3b11"
      },
      "source": [
        "arr1=np.array([1,2,3,4,5,6,7,8,9]).reshape(3,-1)\n",
        "arr1"
      ],
      "execution_count": null,
      "outputs": [
        {
          "output_type": "execute_result",
          "data": {
            "text/plain": [
              "array([[1, 2, 3],\n",
              "       [4, 5, 6],\n",
              "       [7, 8, 9]])"
            ]
          },
          "metadata": {},
          "execution_count": 12
        }
      ]
    },
    {
      "cell_type": "code",
      "metadata": {
        "colab": {
          "base_uri": "https://localhost:8080/"
        },
        "id": "TFM-S0VMZGvr",
        "outputId": "188a2867-36d1-4b6b-e614-8975a1945e65"
      },
      "source": [
        "arr1=np.array([1,2,3,4,5,6,7,8,9,10]).reshape(-1,2)\n",
        "arr1"
      ],
      "execution_count": null,
      "outputs": [
        {
          "output_type": "execute_result",
          "data": {
            "text/plain": [
              "array([[ 1,  2],\n",
              "       [ 3,  4],\n",
              "       [ 5,  6],\n",
              "       [ 7,  8],\n",
              "       [ 9, 10]])"
            ]
          },
          "metadata": {},
          "execution_count": 13
        }
      ]
    },
    {
      "cell_type": "code",
      "metadata": {
        "colab": {
          "base_uri": "https://localhost:8080/"
        },
        "id": "uHqYGB1EZGvs",
        "outputId": "5ca6550f-ea39-4a92-bd38-8384a426a56d"
      },
      "source": [
        "#creation of 3D array\n",
        "arr=np.array([1,2,3,4,5,6,7,8]).reshape(-1,2,2)\n",
        "arr"
      ],
      "execution_count": null,
      "outputs": [
        {
          "output_type": "execute_result",
          "data": {
            "text/plain": [
              "array([[[1, 2],\n",
              "        [3, 4]],\n",
              "\n",
              "       [[5, 6],\n",
              "        [7, 8]]])"
            ]
          },
          "metadata": {},
          "execution_count": 14
        }
      ]
    },
    {
      "cell_type": "markdown",
      "metadata": {
        "id": "LUeF9ax_ZGvt"
      },
      "source": [
        "# zeros(), #ones(), #eye(), #diag() function"
      ]
    },
    {
      "cell_type": "code",
      "metadata": {
        "colab": {
          "base_uri": "https://localhost:8080/"
        },
        "id": "P51nxiKnZGvu",
        "outputId": "04f89ec5-1cc6-40e2-8d23-0e034dd81bd6"
      },
      "source": [
        "a=np.zeros(4)\n",
        "a"
      ],
      "execution_count": null,
      "outputs": [
        {
          "output_type": "execute_result",
          "data": {
            "text/plain": [
              "array([0., 0., 0., 0.])"
            ]
          },
          "metadata": {},
          "execution_count": 15
        }
      ]
    },
    {
      "cell_type": "code",
      "metadata": {
        "colab": {
          "base_uri": "https://localhost:8080/"
        },
        "id": "rjMlKN43ZGvv",
        "outputId": "9fc2b618-9de8-4cfd-9c9c-8f1f195ef824"
      },
      "source": [
        "np.ones(4)"
      ],
      "execution_count": null,
      "outputs": [
        {
          "output_type": "execute_result",
          "data": {
            "text/plain": [
              "array([1., 1., 1., 1.])"
            ]
          },
          "metadata": {},
          "execution_count": 16
        }
      ]
    },
    {
      "cell_type": "code",
      "metadata": {
        "colab": {
          "base_uri": "https://localhost:8080/"
        },
        "id": "4LM9vBT-ZGvw",
        "outputId": "56d93db1-04d1-4d93-c1de-686b96cba390"
      },
      "source": [
        "np.eye(4)"
      ],
      "execution_count": null,
      "outputs": [
        {
          "output_type": "execute_result",
          "data": {
            "text/plain": [
              "array([[1., 0., 0., 0.],\n",
              "       [0., 1., 0., 0.],\n",
              "       [0., 0., 1., 0.],\n",
              "       [0., 0., 0., 1.]])"
            ]
          },
          "metadata": {},
          "execution_count": 17
        }
      ]
    },
    {
      "cell_type": "code",
      "metadata": {
        "colab": {
          "base_uri": "https://localhost:8080/"
        },
        "id": "acoy_yJgZGvw",
        "outputId": "c123e33e-9008-4fec-8788-2d42d1301b66"
      },
      "source": [
        "np.diag([4,5,6,7])"
      ],
      "execution_count": null,
      "outputs": [
        {
          "output_type": "execute_result",
          "data": {
            "text/plain": [
              "array([[4, 0, 0, 0],\n",
              "       [0, 5, 0, 0],\n",
              "       [0, 0, 6, 0],\n",
              "       [0, 0, 0, 7]])"
            ]
          },
          "metadata": {},
          "execution_count": 18
        }
      ]
    },
    {
      "cell_type": "markdown",
      "metadata": {
        "id": "1_HSAUIMZGvx"
      },
      "source": [
        "# randint() and rand() function"
      ]
    },
    {
      "cell_type": "code",
      "metadata": {
        "colab": {
          "base_uri": "https://localhost:8080/"
        },
        "id": "0UIT-c6OZGvy",
        "outputId": "8c95cf76-6f62-486f-8fb4-bfd4425d543b"
      },
      "source": [
        "np.random.randint(1,101,10) # 1 include and 101 exclude"
      ],
      "execution_count": null,
      "outputs": [
        {
          "output_type": "execute_result",
          "data": {
            "text/plain": [
              "array([40, 27, 51, 58, 97, 87, 50, 38, 15, 64])"
            ]
          },
          "metadata": {},
          "execution_count": 19
        }
      ]
    },
    {
      "cell_type": "code",
      "metadata": {
        "colab": {
          "base_uri": "https://localhost:8080/"
        },
        "id": "5vXt5kQfZGvz",
        "outputId": "c570a165-6226-4d43-f7c3-bd171a25c970"
      },
      "source": [
        "np.random.rand(5) #always takes one argument specify that the total no of elements between 0 and 1"
      ],
      "execution_count": null,
      "outputs": [
        {
          "output_type": "execute_result",
          "data": {
            "text/plain": [
              "array([0.59088686, 0.12864246, 0.54354114, 0.87775435, 0.80104027])"
            ]
          },
          "metadata": {},
          "execution_count": 20
        }
      ]
    },
    {
      "cell_type": "code",
      "metadata": {
        "colab": {
          "base_uri": "https://localhost:8080/"
        },
        "id": "MXAQPgo8ZGvz",
        "outputId": "19980ca8-a1ec-4035-cf1a-202329bfff38"
      },
      "source": [
        "np.random.randn(5) # generate nos and hese nos will be normally distributed and if we calulate the mean that will be closer to 0."
      ],
      "execution_count": null,
      "outputs": [
        {
          "output_type": "execute_result",
          "data": {
            "text/plain": [
              "array([-0.37682214, -1.47533747,  0.23257858,  2.17527909,  0.55509564])"
            ]
          },
          "metadata": {},
          "execution_count": 21
        }
      ]
    },
    {
      "cell_type": "code",
      "metadata": {
        "colab": {
          "base_uri": "https://localhost:8080/"
        },
        "id": "qJOIUJp6ZGv0",
        "outputId": "66ed9dc1-b641-4bc6-c6d6-8f503bef4aac"
      },
      "source": [
        "arr=np.random.randint(1,111,10).reshape(2,5)\n",
        "arr"
      ],
      "execution_count": null,
      "outputs": [
        {
          "output_type": "execute_result",
          "data": {
            "text/plain": [
              "array([[ 14,  11,   4,  60,   7],\n",
              "       [ 51,  86,  54, 104,  64]])"
            ]
          },
          "metadata": {},
          "execution_count": 22
        }
      ]
    },
    {
      "cell_type": "code",
      "metadata": {
        "colab": {
          "base_uri": "https://localhost:8080/"
        },
        "id": "uBjRFjSFZGv1",
        "outputId": "18133b5b-f201-4490-a37e-880fbe8c0815"
      },
      "source": [
        "arr=np.random.randint(1,111,20)\n",
        "arr"
      ],
      "execution_count": null,
      "outputs": [
        {
          "output_type": "execute_result",
          "data": {
            "text/plain": [
              "array([ 99,  82,  68, 104, 103,  94,  58,  18,  14,  54,  43,  61,  34,\n",
              "        35,   2,  73, 103,  14,  54,  64])"
            ]
          },
          "metadata": {},
          "execution_count": 23
        }
      ]
    },
    {
      "cell_type": "code",
      "metadata": {
        "colab": {
          "base_uri": "https://localhost:8080/"
        },
        "id": "v3X30cekZGv2",
        "outputId": "af40685d-d9da-4d81-abc7-f8d32b18db69"
      },
      "source": [
        "np.linspace(1,50,5)# distance between each no from its previous one will be equal i.e 12.25"
      ],
      "execution_count": null,
      "outputs": [
        {
          "output_type": "execute_result",
          "data": {
            "text/plain": [
              "array([ 1.  , 13.25, 25.5 , 37.75, 50.  ])"
            ]
          },
          "metadata": {},
          "execution_count": 24
        }
      ]
    },
    {
      "cell_type": "markdown",
      "metadata": {
        "id": "IG4kQYN5ZGv3"
      },
      "source": [
        "# Indexing and Slicing of NumPy array"
      ]
    },
    {
      "cell_type": "code",
      "metadata": {
        "colab": {
          "base_uri": "https://localhost:8080/"
        },
        "id": "vjUtMrw9ZGv3",
        "outputId": "baea5727-a681-47d3-b8ce-3d9af54d74d2"
      },
      "source": [
        "arr=np.array([1,2,3,4,5])\n",
        "arr"
      ],
      "execution_count": null,
      "outputs": [
        {
          "output_type": "execute_result",
          "data": {
            "text/plain": [
              "array([1, 2, 3, 4, 5])"
            ]
          },
          "metadata": {},
          "execution_count": 25
        }
      ]
    },
    {
      "cell_type": "code",
      "metadata": {
        "colab": {
          "base_uri": "https://localhost:8080/"
        },
        "id": "Sj3IJ81nZGv4",
        "outputId": "1715002f-6d0a-4ac3-e0c0-03b1505dfc78"
      },
      "source": [
        "sliced_array=arr[2:4].copy() # index 4 is not included. copy() operation does notv reflect the changes on original  array.\n",
        "sliced_array"
      ],
      "execution_count": null,
      "outputs": [
        {
          "output_type": "execute_result",
          "data": {
            "text/plain": [
              "array([3, 4])"
            ]
          },
          "metadata": {},
          "execution_count": 26
        }
      ]
    },
    {
      "cell_type": "code",
      "metadata": {
        "colab": {
          "base_uri": "https://localhost:8080/"
        },
        "id": "0K-0wzkDZGv5",
        "outputId": "d32dccc6-409f-4363-f84d-79d1043f8278"
      },
      "source": [
        "sliced_array[:]=0 #All elements of sliced array will be assigned as 0.\n",
        "sliced_array"
      ],
      "execution_count": null,
      "outputs": [
        {
          "output_type": "execute_result",
          "data": {
            "text/plain": [
              "array([0, 0])"
            ]
          },
          "metadata": {},
          "execution_count": 27
        }
      ]
    },
    {
      "cell_type": "code",
      "metadata": {
        "colab": {
          "base_uri": "https://localhost:8080/"
        },
        "id": "hT0soeNDZGv7",
        "outputId": "5ea772ae-5ab1-4cb7-9775-a4c61001967f"
      },
      "source": [
        "arr"
      ],
      "execution_count": null,
      "outputs": [
        {
          "output_type": "execute_result",
          "data": {
            "text/plain": [
              "array([1, 2, 3, 4, 5])"
            ]
          },
          "metadata": {},
          "execution_count": 28
        }
      ]
    },
    {
      "cell_type": "code",
      "metadata": {
        "colab": {
          "base_uri": "https://localhost:8080/"
        },
        "id": "5COkGMLHZGv8",
        "outputId": "483b6f24-b0a5-4624-9f44-404c4839edfa"
      },
      "source": [
        "arr[2:]  # starts from index 2 till end."
      ],
      "execution_count": null,
      "outputs": [
        {
          "output_type": "execute_result",
          "data": {
            "text/plain": [
              "array([3, 4, 5])"
            ]
          },
          "metadata": {},
          "execution_count": 29
        }
      ]
    },
    {
      "cell_type": "code",
      "metadata": {
        "colab": {
          "base_uri": "https://localhost:8080/"
        },
        "id": "Jg_ZfqQiZGv9",
        "outputId": "88fcff89-bda4-4b20-badd-84b6c8e52430"
      },
      "source": [
        "arr[2:4]"
      ],
      "execution_count": null,
      "outputs": [
        {
          "output_type": "execute_result",
          "data": {
            "text/plain": [
              "array([3, 4])"
            ]
          },
          "metadata": {},
          "execution_count": 30
        }
      ]
    },
    {
      "cell_type": "code",
      "metadata": {
        "id": "BrbHY8bJZGv-",
        "colab": {
          "base_uri": "https://localhost:8080/"
        },
        "outputId": "11126dbb-c748-4ce0-c485-b9f8737f1928"
      },
      "source": [
        "arr[-1:]"
      ],
      "execution_count": null,
      "outputs": [
        {
          "output_type": "execute_result",
          "data": {
            "text/plain": [
              "array([5])"
            ]
          },
          "metadata": {},
          "execution_count": 31
        }
      ]
    },
    {
      "cell_type": "code",
      "metadata": {
        "id": "vAcM4SoGZGv-",
        "colab": {
          "base_uri": "https://localhost:8080/"
        },
        "outputId": "1efb038d-6092-4988-ab1a-69b0e52b5624"
      },
      "source": [
        "arr[-3:]"
      ],
      "execution_count": null,
      "outputs": [
        {
          "output_type": "execute_result",
          "data": {
            "text/plain": [
              "array([3, 4, 5])"
            ]
          },
          "metadata": {},
          "execution_count": 32
        }
      ]
    },
    {
      "cell_type": "code",
      "metadata": {
        "id": "N-_aJqrBZGv_",
        "colab": {
          "base_uri": "https://localhost:8080/"
        },
        "outputId": "1efbe255-9847-425a-e6f2-1f666f7a4308"
      },
      "source": [
        "arr[1:4]"
      ],
      "execution_count": null,
      "outputs": [
        {
          "output_type": "execute_result",
          "data": {
            "text/plain": [
              "array([2, 3, 4])"
            ]
          },
          "metadata": {},
          "execution_count": 33
        }
      ]
    },
    {
      "cell_type": "code",
      "metadata": {
        "id": "DtYP4RqQZGwA",
        "colab": {
          "base_uri": "https://localhost:8080/"
        },
        "outputId": "a955766f-82ea-40ee-e3e6-a05bc2ac32c5"
      },
      "source": [
        "arr[0:5:2] # element of index 0,2,4"
      ],
      "execution_count": null,
      "outputs": [
        {
          "output_type": "execute_result",
          "data": {
            "text/plain": [
              "array([1, 3, 5])"
            ]
          },
          "metadata": {},
          "execution_count": 34
        }
      ]
    },
    {
      "cell_type": "code",
      "metadata": {
        "id": "8Gtj-OHnZGwB",
        "colab": {
          "base_uri": "https://localhost:8080/"
        },
        "outputId": "bece643d-e12a-4890-81cd-ccfe4715d4c6"
      },
      "source": [
        "#Reversing of an array\n",
        "arr[::-1]"
      ],
      "execution_count": null,
      "outputs": [
        {
          "output_type": "execute_result",
          "data": {
            "text/plain": [
              "array([5, 4, 3, 2, 1])"
            ]
          },
          "metadata": {},
          "execution_count": 35
        }
      ]
    },
    {
      "cell_type": "code",
      "metadata": {
        "id": "rxR_gN2sZGwB",
        "colab": {
          "base_uri": "https://localhost:8080/"
        },
        "outputId": "3024f75c-da64-4abd-83b7-a9f2d7a80103"
      },
      "source": [
        "matrix=np.array([[1,2,3],[4,5,6],[7,8,9]])\n",
        "matrix"
      ],
      "execution_count": null,
      "outputs": [
        {
          "output_type": "execute_result",
          "data": {
            "text/plain": [
              "array([[1, 2, 3],\n",
              "       [4, 5, 6],\n",
              "       [7, 8, 9]])"
            ]
          },
          "metadata": {},
          "execution_count": 36
        }
      ]
    },
    {
      "cell_type": "code",
      "metadata": {
        "id": "XyaZN5yMZGwD",
        "colab": {
          "base_uri": "https://localhost:8080/"
        },
        "outputId": "88d2d142-3816-4c54-edcd-f28f0c6d4960"
      },
      "source": [
        "#first 1D array\n",
        "matrix[0]"
      ],
      "execution_count": null,
      "outputs": [
        {
          "output_type": "execute_result",
          "data": {
            "text/plain": [
              "array([1, 2, 3])"
            ]
          },
          "metadata": {},
          "execution_count": 37
        }
      ]
    },
    {
      "cell_type": "code",
      "metadata": {
        "id": "-jya4NjGZGwD",
        "colab": {
          "base_uri": "https://localhost:8080/"
        },
        "outputId": "ce9fa622-dde5-40f9-832f-f997f168cc61"
      },
      "source": [
        "matrix[1]"
      ],
      "execution_count": null,
      "outputs": [
        {
          "output_type": "execute_result",
          "data": {
            "text/plain": [
              "array([4, 5, 6])"
            ]
          },
          "metadata": {},
          "execution_count": 38
        }
      ]
    },
    {
      "cell_type": "code",
      "metadata": {
        "id": "lnQobEWeZGwE",
        "colab": {
          "base_uri": "https://localhost:8080/"
        },
        "outputId": "0e670208-b6fa-4b14-de85-ebf316af3990"
      },
      "source": [
        "#second element of first 1D array\n",
        "matrix[0][1]"
      ],
      "execution_count": null,
      "outputs": [
        {
          "output_type": "execute_result",
          "data": {
            "text/plain": [
              "2"
            ]
          },
          "metadata": {},
          "execution_count": 39
        }
      ]
    },
    {
      "cell_type": "code",
      "metadata": {
        "id": "vL4ATgOSZGwF",
        "colab": {
          "base_uri": "https://localhost:8080/"
        },
        "outputId": "6b8b3c56-d849-403b-915f-c26213db2aba"
      },
      "source": [
        "matrix[1][1]"
      ],
      "execution_count": null,
      "outputs": [
        {
          "output_type": "execute_result",
          "data": {
            "text/plain": [
              "5"
            ]
          },
          "metadata": {},
          "execution_count": 40
        }
      ]
    },
    {
      "cell_type": "code",
      "metadata": {
        "id": "bsx8ZujQZGwF",
        "colab": {
          "base_uri": "https://localhost:8080/"
        },
        "outputId": "a626c590-74d8-4db2-e779-6915300c3d40"
      },
      "source": [
        "# Using only single Bracket # it is recommended\n",
        "matrix[0,1]"
      ],
      "execution_count": null,
      "outputs": [
        {
          "output_type": "execute_result",
          "data": {
            "text/plain": [
              "2"
            ]
          },
          "metadata": {},
          "execution_count": 41
        }
      ]
    },
    {
      "cell_type": "code",
      "metadata": {
        "id": "gU-kAr-UZGwG",
        "colab": {
          "base_uri": "https://localhost:8080/"
        },
        "outputId": "ff95d9c4-dccd-41ab-995f-a3ab40f1c7a8"
      },
      "source": [
        "matrix[1,1]"
      ],
      "execution_count": null,
      "outputs": [
        {
          "output_type": "execute_result",
          "data": {
            "text/plain": [
              "5"
            ]
          },
          "metadata": {},
          "execution_count": 42
        }
      ]
    },
    {
      "cell_type": "code",
      "metadata": {
        "id": "PyWs-yOKZGwH",
        "colab": {
          "base_uri": "https://localhost:8080/"
        },
        "outputId": "86326ecf-a87d-43e3-dfde-f1e71dbc8c2a"
      },
      "source": [
        "matrix[:2, :2]"
      ],
      "execution_count": null,
      "outputs": [
        {
          "output_type": "execute_result",
          "data": {
            "text/plain": [
              "array([[1, 2],\n",
              "       [4, 5]])"
            ]
          },
          "metadata": {},
          "execution_count": 43
        }
      ]
    },
    {
      "cell_type": "code",
      "metadata": {
        "id": "rf7AvuC3ZGwI",
        "colab": {
          "base_uri": "https://localhost:8080/"
        },
        "outputId": "19cb93c2-3b93-47ef-ec48-b1c6d610f9ab"
      },
      "source": [
        "matrix[1:,1:]"
      ],
      "execution_count": null,
      "outputs": [
        {
          "output_type": "execute_result",
          "data": {
            "text/plain": [
              "array([[5, 6],\n",
              "       [8, 9]])"
            ]
          },
          "metadata": {},
          "execution_count": 44
        }
      ]
    },
    {
      "cell_type": "code",
      "metadata": {
        "id": "7OVe-7qzZGwI",
        "colab": {
          "base_uri": "https://localhost:8080/"
        },
        "outputId": "fe874421-3e9b-4585-e142-1057dcb389e8"
      },
      "source": [
        "np.random.seed(123) # it allows to generate same random numbers\n",
        "arr=np.random.randint(1,101,25).reshape(5,5)\n",
        "arr"
      ],
      "execution_count": null,
      "outputs": [
        {
          "output_type": "execute_result",
          "data": {
            "text/plain": [
              "array([[67, 93, 99, 18, 84],\n",
              "       [58, 87, 98, 97, 48],\n",
              "       [74, 33, 47, 97, 26],\n",
              "       [84, 79, 37, 97, 81],\n",
              "       [69, 50, 56, 68,  3]])"
            ]
          },
          "metadata": {},
          "execution_count": 45
        }
      ]
    },
    {
      "cell_type": "code",
      "metadata": {
        "id": "vl62jsowZGwJ",
        "colab": {
          "base_uri": "https://localhost:8080/"
        },
        "outputId": "5e891077-18b4-4003-8064-56d9e73169e2"
      },
      "source": [
        "arr[1:4,1:4]"
      ],
      "execution_count": null,
      "outputs": [
        {
          "output_type": "execute_result",
          "data": {
            "text/plain": [
              "array([[87, 98, 97],\n",
              "       [33, 47, 97],\n",
              "       [79, 37, 97]])"
            ]
          },
          "metadata": {},
          "execution_count": 46
        }
      ]
    },
    {
      "cell_type": "code",
      "metadata": {
        "id": "9HJMjhAVZGwK",
        "colab": {
          "base_uri": "https://localhost:8080/"
        },
        "outputId": "8fabc754-9df7-4fb0-d781-a538a78ddd8c"
      },
      "source": [
        "arr[2:,2:]"
      ],
      "execution_count": null,
      "outputs": [
        {
          "output_type": "execute_result",
          "data": {
            "text/plain": [
              "array([[47, 97, 26],\n",
              "       [37, 97, 81],\n",
              "       [56, 68,  3]])"
            ]
          },
          "metadata": {},
          "execution_count": 47
        }
      ]
    },
    {
      "cell_type": "markdown",
      "metadata": {
        "id": "4Ip21-w6ZGwL"
      },
      "source": [
        "# view vs copy"
      ]
    },
    {
      "cell_type": "code",
      "metadata": {
        "id": "H9yfRw5CZGwL",
        "colab": {
          "base_uri": "https://localhost:8080/"
        },
        "outputId": "aa41d24e-29df-4402-8d92-8f21fb12ad5e"
      },
      "source": [
        "arr=np.array([1,2,3,4,5])\n",
        "arr"
      ],
      "execution_count": null,
      "outputs": [
        {
          "output_type": "execute_result",
          "data": {
            "text/plain": [
              "array([1, 2, 3, 4, 5])"
            ]
          },
          "metadata": {},
          "execution_count": 48
        }
      ]
    },
    {
      "cell_type": "code",
      "metadata": {
        "id": "v9bu235yZGwM",
        "colab": {
          "base_uri": "https://localhost:8080/"
        },
        "outputId": "f77ba90a-d5a1-411e-c36a-0ca9c21ce92e"
      },
      "source": [
        "sliced_array=arr[2:4]  \n",
        "sliced_array"
      ],
      "execution_count": null,
      "outputs": [
        {
          "output_type": "execute_result",
          "data": {
            "text/plain": [
              "array([3, 4])"
            ]
          },
          "metadata": {},
          "execution_count": 49
        }
      ]
    },
    {
      "cell_type": "code",
      "metadata": {
        "id": "Fn5feGCtZGwN",
        "colab": {
          "base_uri": "https://localhost:8080/"
        },
        "outputId": "d441c1ca-841d-482f-812d-e2f4df95e291"
      },
      "source": [
        "sliced_array[:]=0\n",
        "sliced_array"
      ],
      "execution_count": null,
      "outputs": [
        {
          "output_type": "execute_result",
          "data": {
            "text/plain": [
              "array([0, 0])"
            ]
          },
          "metadata": {},
          "execution_count": 50
        }
      ]
    },
    {
      "cell_type": "code",
      "metadata": {
        "id": "wawQQ0oJZGwO",
        "colab": {
          "base_uri": "https://localhost:8080/"
        },
        "outputId": "b9282060-4af3-4fd4-d8ff-7d9e696dd524"
      },
      "source": [
        "arr # view reflect changes in original array"
      ],
      "execution_count": null,
      "outputs": [
        {
          "output_type": "execute_result",
          "data": {
            "text/plain": [
              "array([1, 2, 0, 0, 5])"
            ]
          },
          "metadata": {},
          "execution_count": 51
        }
      ]
    },
    {
      "cell_type": "code",
      "metadata": {
        "id": "ha5mfaifZGwP",
        "colab": {
          "base_uri": "https://localhost:8080/"
        },
        "outputId": "0ea4716a-7bd5-4cfd-e444-470191889639"
      },
      "source": [
        "arr=np.array([1,2,3,4,5])\n",
        "arr"
      ],
      "execution_count": null,
      "outputs": [
        {
          "output_type": "execute_result",
          "data": {
            "text/plain": [
              "array([1, 2, 3, 4, 5])"
            ]
          },
          "metadata": {},
          "execution_count": 52
        }
      ]
    },
    {
      "cell_type": "code",
      "metadata": {
        "id": "mSejqcyEZGwQ",
        "colab": {
          "base_uri": "https://localhost:8080/"
        },
        "outputId": "b406275d-49df-4d01-8dbb-c8316ac34352"
      },
      "source": [
        "sliced_array=arr[2:4].copy()\n",
        "sliced_array"
      ],
      "execution_count": null,
      "outputs": [
        {
          "output_type": "execute_result",
          "data": {
            "text/plain": [
              "array([3, 4])"
            ]
          },
          "metadata": {},
          "execution_count": 53
        }
      ]
    },
    {
      "cell_type": "code",
      "metadata": {
        "id": "H75AyWiaZGwS",
        "colab": {
          "base_uri": "https://localhost:8080/"
        },
        "outputId": "c4caac34-eb7b-4e5d-ee1a-2b80461e4226"
      },
      "source": [
        "sliced_array[:]=0\n",
        "sliced_array"
      ],
      "execution_count": null,
      "outputs": [
        {
          "output_type": "execute_result",
          "data": {
            "text/plain": [
              "array([0, 0])"
            ]
          },
          "metadata": {},
          "execution_count": 54
        }
      ]
    },
    {
      "cell_type": "code",
      "metadata": {
        "id": "CGISpsdJZGwS",
        "colab": {
          "base_uri": "https://localhost:8080/"
        },
        "outputId": "943a2eb9-d341-446d-f855-66b709589fde"
      },
      "source": [
        "arr #Copy does not reflect changes in original array"
      ],
      "execution_count": null,
      "outputs": [
        {
          "output_type": "execute_result",
          "data": {
            "text/plain": [
              "array([1, 2, 3, 4, 5])"
            ]
          },
          "metadata": {},
          "execution_count": 55
        }
      ]
    },
    {
      "cell_type": "markdown",
      "metadata": {
        "id": "EPRcFGEVZGwT"
      },
      "source": [
        "# Conditinal selection"
      ]
    },
    {
      "cell_type": "code",
      "metadata": {
        "id": "ROHzFBkIZGwU",
        "colab": {
          "base_uri": "https://localhost:8080/"
        },
        "outputId": "cdbd7e9a-0b4c-4cf8-b104-99c1f279f077"
      },
      "source": [
        "arr=np.arange(1,11)\n",
        "arr"
      ],
      "execution_count": null,
      "outputs": [
        {
          "output_type": "execute_result",
          "data": {
            "text/plain": [
              "array([ 1,  2,  3,  4,  5,  6,  7,  8,  9, 10])"
            ]
          },
          "metadata": {},
          "execution_count": 56
        }
      ]
    },
    {
      "cell_type": "code",
      "metadata": {
        "id": "BZyg_G6ZZGwV",
        "colab": {
          "base_uri": "https://localhost:8080/"
        },
        "outputId": "086a8fc2-4bb8-4674-f70d-880e61f889fb"
      },
      "source": [
        "arr>5"
      ],
      "execution_count": null,
      "outputs": [
        {
          "output_type": "execute_result",
          "data": {
            "text/plain": [
              "array([False, False, False, False, False,  True,  True,  True,  True,\n",
              "        True])"
            ]
          },
          "metadata": {},
          "execution_count": 57
        }
      ]
    },
    {
      "cell_type": "code",
      "metadata": {
        "id": "kULgUsohZGwW",
        "colab": {
          "base_uri": "https://localhost:8080/"
        },
        "outputId": "d117a573-cad6-4f66-d360-f9f2c7ca2159"
      },
      "source": [
        "arr%2==0"
      ],
      "execution_count": null,
      "outputs": [
        {
          "output_type": "execute_result",
          "data": {
            "text/plain": [
              "array([False,  True, False,  True, False,  True, False,  True, False,\n",
              "        True])"
            ]
          },
          "metadata": {},
          "execution_count": 58
        }
      ]
    },
    {
      "cell_type": "code",
      "metadata": {
        "id": "YYHRmzFSZGwW",
        "colab": {
          "base_uri": "https://localhost:8080/"
        },
        "outputId": "88f015e4-eeaa-44a9-dee2-367846b39867"
      },
      "source": [
        "arr[arr%2==0]"
      ],
      "execution_count": null,
      "outputs": [
        {
          "output_type": "execute_result",
          "data": {
            "text/plain": [
              "array([ 2,  4,  6,  8, 10])"
            ]
          },
          "metadata": {},
          "execution_count": 59
        }
      ]
    },
    {
      "cell_type": "code",
      "metadata": {
        "id": "nub93pPfZGwX",
        "colab": {
          "base_uri": "https://localhost:8080/"
        },
        "outputId": "a93aee9b-1b8c-49ac-fff5-7f3c36f34e76"
      },
      "source": [
        "arr[arr%2==0]=0\n",
        "arr"
      ],
      "execution_count": null,
      "outputs": [
        {
          "output_type": "execute_result",
          "data": {
            "text/plain": [
              "array([1, 0, 3, 0, 5, 0, 7, 0, 9, 0])"
            ]
          },
          "metadata": {},
          "execution_count": 60
        }
      ]
    },
    {
      "cell_type": "code",
      "metadata": {
        "id": "0a5_tJZJZGwY",
        "colab": {
          "base_uri": "https://localhost:8080/"
        },
        "outputId": "2ee05434-4b6f-4bab-abd0-395bef6220cd"
      },
      "source": [
        "arr[arr>5]"
      ],
      "execution_count": null,
      "outputs": [
        {
          "output_type": "execute_result",
          "data": {
            "text/plain": [
              "array([7, 9])"
            ]
          },
          "metadata": {},
          "execution_count": 61
        }
      ]
    },
    {
      "cell_type": "markdown",
      "metadata": {
        "id": "CN81SEsaZGwZ"
      },
      "source": [
        "# NumPy axis\n",
        "for rows put axis=1 and for columns put axis=0"
      ]
    },
    {
      "cell_type": "code",
      "metadata": {
        "id": "YVIYIUCqZGwZ",
        "colab": {
          "base_uri": "https://localhost:8080/"
        },
        "outputId": "5e840da2-4fde-4407-cbd6-eff0307aacfa"
      },
      "source": [
        "arr1=np.random.randint(1,10,9).reshape(3,3)\n",
        "arr1"
      ],
      "execution_count": null,
      "outputs": [
        {
          "output_type": "execute_result",
          "data": {
            "text/plain": [
              "array([[5, 8, 3],\n",
              "       [5, 9, 1],\n",
              "       [8, 4, 5]])"
            ]
          },
          "metadata": {},
          "execution_count": 62
        }
      ]
    },
    {
      "cell_type": "code",
      "metadata": {
        "id": "BE26mKE6ZGwa",
        "colab": {
          "base_uri": "https://localhost:8080/"
        },
        "outputId": "e7bca236-a943-46d9-a1d2-02d3685872dc"
      },
      "source": [
        "arr2=np.random.randint(1,10,9).reshape(3,3)\n",
        "arr2"
      ],
      "execution_count": null,
      "outputs": [
        {
          "output_type": "execute_result",
          "data": {
            "text/plain": [
              "array([[7, 2, 6],\n",
              "       [7, 3, 2],\n",
              "       [9, 4, 6]])"
            ]
          },
          "metadata": {},
          "execution_count": 63
        }
      ]
    },
    {
      "cell_type": "code",
      "metadata": {
        "id": "W8Y9P5-EZGwb",
        "colab": {
          "base_uri": "https://localhost:8080/"
        },
        "outputId": "abcf693f-0bc8-48d5-886b-685f62d155ba"
      },
      "source": [
        "arr1+arr2"
      ],
      "execution_count": null,
      "outputs": [
        {
          "output_type": "execute_result",
          "data": {
            "text/plain": [
              "array([[12, 10,  9],\n",
              "       [12, 12,  3],\n",
              "       [17,  8, 11]])"
            ]
          },
          "metadata": {},
          "execution_count": 64
        }
      ]
    },
    {
      "cell_type": "code",
      "metadata": {
        "id": "x3yHrbDEZGwb",
        "colab": {
          "base_uri": "https://localhost:8080/"
        },
        "outputId": "eb58097a-5135-4b90-c3bc-cd9990914416"
      },
      "source": [
        "arr1*arr2"
      ],
      "execution_count": null,
      "outputs": [
        {
          "output_type": "execute_result",
          "data": {
            "text/plain": [
              "array([[35, 16, 18],\n",
              "       [35, 27,  2],\n",
              "       [72, 16, 30]])"
            ]
          },
          "metadata": {},
          "execution_count": 65
        }
      ]
    },
    {
      "cell_type": "code",
      "metadata": {
        "id": "WZXrvaIsZGwc",
        "colab": {
          "base_uri": "https://localhost:8080/"
        },
        "outputId": "3c2eb4aa-eb7f-4ec1-c1d7-a4c2893e5683"
      },
      "source": [
        "arr1.dot(arr2)"
      ],
      "execution_count": null,
      "outputs": [
        {
          "output_type": "execute_result",
          "data": {
            "text/plain": [
              "array([[118,  46,  64],\n",
              "       [107,  41,  54],\n",
              "       [129,  48,  86]])"
            ]
          },
          "metadata": {},
          "execution_count": 66
        }
      ]
    },
    {
      "cell_type": "code",
      "metadata": {
        "id": "ab48-CJDZGwd",
        "colab": {
          "base_uri": "https://localhost:8080/"
        },
        "outputId": "036c8abb-d073-4aef-dd4a-ccae8dc07440"
      },
      "source": [
        "np.min(arr)"
      ],
      "execution_count": null,
      "outputs": [
        {
          "output_type": "execute_result",
          "data": {
            "text/plain": [
              "0"
            ]
          },
          "metadata": {},
          "execution_count": 67
        }
      ]
    },
    {
      "cell_type": "code",
      "metadata": {
        "id": "eAu69Vb3ZGwe",
        "colab": {
          "base_uri": "https://localhost:8080/"
        },
        "outputId": "d29ecea5-22f3-45e7-e970-0fe7eebc8280"
      },
      "source": [
        "# calculate min element rowwise\n",
        "np.min(arr1,axis=1)"
      ],
      "execution_count": null,
      "outputs": [
        {
          "output_type": "execute_result",
          "data": {
            "text/plain": [
              "array([3, 1, 4])"
            ]
          },
          "metadata": {},
          "execution_count": 68
        }
      ]
    },
    {
      "cell_type": "code",
      "metadata": {
        "id": "yF7VFMDfZGwe",
        "colab": {
          "base_uri": "https://localhost:8080/"
        },
        "outputId": "05aa0999-0fe0-4e52-b46b-9b7362186c77"
      },
      "source": [
        "# calcilate max element columnwise\n",
        "np.max(arr1, axis=0)"
      ],
      "execution_count": null,
      "outputs": [
        {
          "output_type": "execute_result",
          "data": {
            "text/plain": [
              "array([8, 9, 5])"
            ]
          },
          "metadata": {},
          "execution_count": 69
        }
      ]
    },
    {
      "cell_type": "markdown",
      "metadata": {
        "id": "0OiRqT3UZGwf"
      },
      "source": [
        "# hstack() and vstack() function\n",
        "these are used to concatinate two matrices horizontally and vertically"
      ]
    },
    {
      "cell_type": "code",
      "metadata": {
        "id": "7inhvt2mZGwg",
        "colab": {
          "base_uri": "https://localhost:8080/"
        },
        "outputId": "9ed2abf0-4597-4537-d449-4364ec865ac9"
      },
      "source": [
        "matrix1=np.random.randint(1,11,9).reshape(3,3)\n",
        "matrix1"
      ],
      "execution_count": null,
      "outputs": [
        {
          "output_type": "execute_result",
          "data": {
            "text/plain": [
              "array([[1, 3, 7],\n",
              "       [3, 5, 5],\n",
              "       [7, 4, 1]])"
            ]
          },
          "metadata": {},
          "execution_count": 70
        }
      ]
    },
    {
      "cell_type": "code",
      "metadata": {
        "id": "gZAg7Zz2ZGwh",
        "colab": {
          "base_uri": "https://localhost:8080/"
        },
        "outputId": "6279aba5-456e-464a-9d49-54a11c07c8d9"
      },
      "source": [
        "matrix2=np.random.randint(50,100,9).reshape(3,3)\n",
        "matrix2"
      ],
      "execution_count": null,
      "outputs": [
        {
          "output_type": "execute_result",
          "data": {
            "text/plain": [
              "array([[56, 64, 89],\n",
              "       [61, 57, 51],\n",
              "       [93, 87, 75]])"
            ]
          },
          "metadata": {},
          "execution_count": 71
        }
      ]
    },
    {
      "cell_type": "code",
      "metadata": {
        "id": "pP0S8jp0ZGwi",
        "colab": {
          "base_uri": "https://localhost:8080/"
        },
        "outputId": "64e6d99a-e355-43c7-bc92-55291396df2f"
      },
      "source": [
        "np.hstack((matrix1,matrix2))"
      ],
      "execution_count": null,
      "outputs": [
        {
          "output_type": "execute_result",
          "data": {
            "text/plain": [
              "array([[ 1,  3,  7, 56, 64, 89],\n",
              "       [ 3,  5,  5, 61, 57, 51],\n",
              "       [ 7,  4,  1, 93, 87, 75]])"
            ]
          },
          "metadata": {},
          "execution_count": 72
        }
      ]
    },
    {
      "cell_type": "code",
      "metadata": {
        "id": "lqxfvB53ZGwj",
        "colab": {
          "base_uri": "https://localhost:8080/"
        },
        "outputId": "c1550b8b-450e-4bd1-aa5d-4bcd81126379"
      },
      "source": [
        "np.vstack((matrix1,matrix2))"
      ],
      "execution_count": null,
      "outputs": [
        {
          "output_type": "execute_result",
          "data": {
            "text/plain": [
              "array([[ 1,  3,  7],\n",
              "       [ 3,  5,  5],\n",
              "       [ 7,  4,  1],\n",
              "       [56, 64, 89],\n",
              "       [61, 57, 51],\n",
              "       [93, 87, 75]])"
            ]
          },
          "metadata": {},
          "execution_count": 73
        }
      ]
    }
  ]
}