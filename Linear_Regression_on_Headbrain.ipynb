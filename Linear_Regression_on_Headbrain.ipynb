{
  "nbformat": 4,
  "nbformat_minor": 0,
  "metadata": {
    "colab": {
      "provenance": [],
      "mount_file_id": "1hONm8s0qCEr_HXKu_vLMbQYf-5IUjHoP",
      "authorship_tag": "ABX9TyM08RWymWC8x6gm10P24kc9",
      "include_colab_link": true
    },
    "kernelspec": {
      "name": "python3",
      "display_name": "Python 3"
    },
    "language_info": {
      "name": "python"
    }
  },
  "cells": [
    {
      "cell_type": "markdown",
      "metadata": {
        "id": "view-in-github",
        "colab_type": "text"
      },
      "source": [
        "<a href=\"https://colab.research.google.com/github/hsallrounder/Introduction-to-Machine-Learning-Lab/blob/master/Linear_Regression_on_Headbrain.ipynb\" target=\"_parent\"><img src=\"https://colab.research.google.com/assets/colab-badge.svg\" alt=\"Open In Colab\"/></a>"
      ]
    },
    {
      "cell_type": "code",
      "metadata": {
        "colab": {
          "base_uri": "https://localhost:8080/",
          "height": 206
        },
        "id": "JP8yFDmXfhlz",
        "outputId": "337c8aca-79a8-4c13-8435-d8c7d052fbc8"
      },
      "source": [
        "import numpy as np\n",
        "import pandas as pd\n",
        "\n",
        "df=pd.read_csv('/content/drive/MyDrive/Datasets/headbrain.csv')\n",
        "df.head()"
      ],
      "execution_count": null,
      "outputs": [
        {
          "output_type": "execute_result",
          "data": {
            "text/html": [
              "<div>\n",
              "<style scoped>\n",
              "    .dataframe tbody tr th:only-of-type {\n",
              "        vertical-align: middle;\n",
              "    }\n",
              "\n",
              "    .dataframe tbody tr th {\n",
              "        vertical-align: top;\n",
              "    }\n",
              "\n",
              "    .dataframe thead th {\n",
              "        text-align: right;\n",
              "    }\n",
              "</style>\n",
              "<table border=\"1\" class=\"dataframe\">\n",
              "  <thead>\n",
              "    <tr style=\"text-align: right;\">\n",
              "      <th></th>\n",
              "      <th>Gender</th>\n",
              "      <th>Age Range</th>\n",
              "      <th>Head Size(cm^3)</th>\n",
              "      <th>Brain Weight(grams)</th>\n",
              "    </tr>\n",
              "  </thead>\n",
              "  <tbody>\n",
              "    <tr>\n",
              "      <th>0</th>\n",
              "      <td>1</td>\n",
              "      <td>1</td>\n",
              "      <td>4512</td>\n",
              "      <td>1530</td>\n",
              "    </tr>\n",
              "    <tr>\n",
              "      <th>1</th>\n",
              "      <td>1</td>\n",
              "      <td>1</td>\n",
              "      <td>3738</td>\n",
              "      <td>1297</td>\n",
              "    </tr>\n",
              "    <tr>\n",
              "      <th>2</th>\n",
              "      <td>1</td>\n",
              "      <td>1</td>\n",
              "      <td>4261</td>\n",
              "      <td>1335</td>\n",
              "    </tr>\n",
              "    <tr>\n",
              "      <th>3</th>\n",
              "      <td>1</td>\n",
              "      <td>1</td>\n",
              "      <td>3777</td>\n",
              "      <td>1282</td>\n",
              "    </tr>\n",
              "    <tr>\n",
              "      <th>4</th>\n",
              "      <td>1</td>\n",
              "      <td>1</td>\n",
              "      <td>4177</td>\n",
              "      <td>1590</td>\n",
              "    </tr>\n",
              "  </tbody>\n",
              "</table>\n",
              "</div>"
            ],
            "text/plain": [
              "   Gender  Age Range  Head Size(cm^3)  Brain Weight(grams)\n",
              "0       1          1             4512                 1530\n",
              "1       1          1             3738                 1297\n",
              "2       1          1             4261                 1335\n",
              "3       1          1             3777                 1282\n",
              "4       1          1             4177                 1590"
            ]
          },
          "metadata": {},
          "execution_count": 1
        }
      ]
    },
    {
      "cell_type": "code",
      "metadata": {
        "id": "94bG1CiQgRhT",
        "outputId": "cdf028f4-a1dc-433c-de86-3395f8c6c6d5",
        "colab": {
          "base_uri": "https://localhost:8080/",
          "height": 206
        }
      },
      "source": [
        "df.tail()"
      ],
      "execution_count": null,
      "outputs": [
        {
          "output_type": "execute_result",
          "data": {
            "text/html": [
              "<div>\n",
              "<style scoped>\n",
              "    .dataframe tbody tr th:only-of-type {\n",
              "        vertical-align: middle;\n",
              "    }\n",
              "\n",
              "    .dataframe tbody tr th {\n",
              "        vertical-align: top;\n",
              "    }\n",
              "\n",
              "    .dataframe thead th {\n",
              "        text-align: right;\n",
              "    }\n",
              "</style>\n",
              "<table border=\"1\" class=\"dataframe\">\n",
              "  <thead>\n",
              "    <tr style=\"text-align: right;\">\n",
              "      <th></th>\n",
              "      <th>Gender</th>\n",
              "      <th>Age Range</th>\n",
              "      <th>Head Size(cm^3)</th>\n",
              "      <th>Brain Weight(grams)</th>\n",
              "    </tr>\n",
              "  </thead>\n",
              "  <tbody>\n",
              "    <tr>\n",
              "      <th>232</th>\n",
              "      <td>2</td>\n",
              "      <td>2</td>\n",
              "      <td>3214</td>\n",
              "      <td>1110</td>\n",
              "    </tr>\n",
              "    <tr>\n",
              "      <th>233</th>\n",
              "      <td>2</td>\n",
              "      <td>2</td>\n",
              "      <td>3394</td>\n",
              "      <td>1215</td>\n",
              "    </tr>\n",
              "    <tr>\n",
              "      <th>234</th>\n",
              "      <td>2</td>\n",
              "      <td>2</td>\n",
              "      <td>3233</td>\n",
              "      <td>1104</td>\n",
              "    </tr>\n",
              "    <tr>\n",
              "      <th>235</th>\n",
              "      <td>2</td>\n",
              "      <td>2</td>\n",
              "      <td>3352</td>\n",
              "      <td>1170</td>\n",
              "    </tr>\n",
              "    <tr>\n",
              "      <th>236</th>\n",
              "      <td>2</td>\n",
              "      <td>2</td>\n",
              "      <td>3391</td>\n",
              "      <td>1120</td>\n",
              "    </tr>\n",
              "  </tbody>\n",
              "</table>\n",
              "</div>"
            ],
            "text/plain": [
              "     Gender  Age Range  Head Size(cm^3)  Brain Weight(grams)\n",
              "232       2          2             3214                 1110\n",
              "233       2          2             3394                 1215\n",
              "234       2          2             3233                 1104\n",
              "235       2          2             3352                 1170\n",
              "236       2          2             3391                 1120"
            ]
          },
          "metadata": {},
          "execution_count": 2
        }
      ]
    },
    {
      "cell_type": "code",
      "metadata": {
        "colab": {
          "base_uri": "https://localhost:8080/"
        },
        "id": "zRBQ4usOgThc",
        "outputId": "b464e952-1f45-43e4-8a5d-2e069f13a145"
      },
      "source": [
        "X=df['Head Size(cm^3)']\n",
        "Y=df['Brain Weight(grams)']\n",
        "print(X)\n",
        "print(Y)"
      ],
      "execution_count": null,
      "outputs": [
        {
          "output_type": "stream",
          "name": "stdout",
          "text": [
            "0      4512\n",
            "1      3738\n",
            "2      4261\n",
            "3      3777\n",
            "4      4177\n",
            "       ... \n",
            "232    3214\n",
            "233    3394\n",
            "234    3233\n",
            "235    3352\n",
            "236    3391\n",
            "Name: Head Size(cm^3), Length: 237, dtype: int64\n",
            "0      1530\n",
            "1      1297\n",
            "2      1335\n",
            "3      1282\n",
            "4      1590\n",
            "       ... \n",
            "232    1110\n",
            "233    1215\n",
            "234    1104\n",
            "235    1170\n",
            "236    1120\n",
            "Name: Brain Weight(grams), Length: 237, dtype: int64\n"
          ]
        }
      ]
    },
    {
      "cell_type": "code",
      "metadata": {
        "id": "Hk8gpASShF1U",
        "colab": {
          "base_uri": "https://localhost:8080/",
          "height": 313
        },
        "outputId": "6501448d-293d-4fe4-aa96-420e108ef0c7"
      },
      "source": [
        "import matplotlib.pyplot as plt\n",
        "\n",
        "sigmax=0\n",
        "sigmay=0\n",
        "for i in range(len(X)):\n",
        "  sigmax+=X[i]\n",
        "  sigmay+=Y[i]\n",
        "\n",
        "meanx=sigmax/len(X)\n",
        "meany=sigmay/len(Y)\n",
        "X_mx=[]\n",
        "Y_my=[]\n",
        "for i in X:\n",
        "  X_mx.append(i-meanx)\n",
        "for i in Y:\n",
        "  Y_my.append(i-meany)  \n",
        "\n",
        "X_mX_sqr=[]\n",
        "X_mX_Y_mY=[]\n",
        "for i in X_mx:\n",
        "  X_mX_sqr.append(i*i)\n",
        "for i in range(len(X)):\n",
        "  X_mX_Y_mY.append(X_mx[i]*Y_my[i])\n",
        "\n",
        "s_X_mX_sqr=0\n",
        "s_X_mX_Y_mY=0\n",
        "for i in range(len(X)):\n",
        "  s_X_mX_sqr+=X_mX_sqr[i]\n",
        "  s_X_mX_Y_mY+=X_mX_Y_mY[i]\n",
        "m = s_X_mX_Y_mY/s_X_mX_sqr\n",
        "c = meany-(m*meanx)\n",
        "print(f'Line of equation is: y={m:.2f}*x+{c:.2f}')\n",
        "plt.scatter(X,Y, color='Blue', label='Scatter Plot')\n",
        "plt.plot(X,m*np.array(X)+c, color='Orange', label='Regression Line')\n",
        "plt.xlabel(\"X-axis\")\n",
        "plt.ylabel(\"Y-axis\")\n",
        "plt.title(\"HEADBRAIN DATASETS\")\n",
        "plt.legend()\n",
        "plt.show()"
      ],
      "execution_count": null,
      "outputs": [
        {
          "output_type": "stream",
          "name": "stdout",
          "text": [
            "Line of equation is: y=0.26*x+325.57\n"
          ]
        },
        {
          "output_type": "display_data",
          "data": {
            "image/png": "[encoded data removed]",
            "text/plain": [
              "<Figure size 432x288 with 1 Axes>"
            ]
          },
          "metadata": {
            "needs_background": "light"
          }
        }
      ]
    },
    {
      "cell_type": "code",
      "metadata": {
        "colab": {
          "base_uri": "https://localhost:8080/"
        },
        "id": "hmYgUomTiD7o",
        "outputId": "aefdb939-51ef-4643-c6d1-606d4e5c4f0f"
      },
      "source": [
        "import math\n",
        "from sklearn.metrics import r2_score\n",
        "pred = []\n",
        "for i in X:\n",
        "  y1 = m*i + c\n",
        "  pred.append(y1)\n",
        "s_error=0\n",
        "for i in range(len(X)):\n",
        "  s_error+= (pred[i]-Y[i])*(pred[i]-Y[i])\n",
        "\n",
        "mean = s_error/len(X)\n",
        "print(math.sqrt(mean))\n",
        "print(\"R2 Score =\",r2_score(Y,pred))"
      ],
      "execution_count": null,
      "outputs": [
        {
          "output_type": "stream",
          "name": "stdout",
          "text": [
            "72.1206213783709\n",
            "R2 Score = 0.639311719957\n"
          ]
        }
      ]
    },
    {
      "cell_type": "code",
      "metadata": {
        "colab": {
          "base_uri": "https://localhost:8080/"
        },
        "id": "CSZoiXXBie4i",
        "outputId": "1eee8c86-6d6b-4c37-8a40-60053694a72e"
      },
      "source": [
        "#using sklearn library\n",
        "from sklearn.linear_model import LinearRegression\n",
        "from sklearn.metrics import mean_squared_error as mse\n",
        "X1=np.asarray(X)\n",
        "y1=np.asarray(Y)\n",
        "\n",
        "md = LinearRegression()\n",
        "md.fit(X1.reshape(-1,1),y1)\n",
        "print(\"R2 Score =\",md.score(X1.reshape(-1,1),y1))\n",
        "print(md.intercept_,md.coef_)"
      ],
      "execution_count": null,
      "outputs": [
        {
          "output_type": "stream",
          "name": "stdout",
          "text": [
            "R2 Score = 0.639311719957\n",
            "325.5734210494426 [0.26342934]\n"
          ]
        }
      ]
    },
    {
      "cell_type": "code",
      "metadata": {
        "id": "te_GPxn-jzUn"
      },
      "source": [
        "#Verified the Model Successfully"
      ],
      "execution_count": null,
      "outputs": []
    },
    {
      "cell_type": "markdown",
      "metadata": {
        "id": "zOaFlILCRtNx"
      },
      "source": [
        "**GRADIENT DESCENT**"
      ]
    },
    {
      "cell_type": "code",
      "metadata": {
        "id": "qk2Non_BdsRP"
      },
      "source": [
        "df=pd.read_csv('/content/drive/MyDrive/Datasets/headbrain.csv')\n",
        "X=df['Head Size(cm^3)'].values/1000\n",
        "y=df['Brain Weight(grams)'].values/1000"
      ],
      "execution_count": null,
      "outputs": []
    },
    {
      "cell_type": "code",
      "metadata": {
        "id": "I8Lj04S2SoZO"
      },
      "source": [
        "class GradientDescentLinearRegression:\n",
        "  def __init__(self, learning_rate=0.01, iterations=200):\n",
        "    self.learning_rate, self.iterations = learning_rate, iterations\n",
        "  def fit(self, X, y):\n",
        "    b0 = 0\n",
        "    b1 = 0\n",
        "    n = X.shape[0]\n",
        "    for _ in range(self.iterations):\n",
        "      b0_deri = np.sum(b1*X + b0 - y)/n\n",
        "      b1_deri = np.sum(X*((b1*X + b0) - y))/n\n",
        "      b0 = b0 - (self.learning_rate*b0_deri)\n",
        "      b1 = b1 - (self.learning_rate*b1_deri)\n",
        "      plt.plot(X,(b0+b1*X))\n",
        "    self.b0, self.b1 = b0, b1\n",
        "  def predict(self, X):\n",
        "    return self.b0 + self.b1*X\n",
        "  def rmse(self, X):\n",
        "    rmse = 0\n",
        "    n = X.shape[0]\n",
        "    for i in range(n):\n",
        "      y_pred = self.predict(X[i])\n",
        "      rmse += (y_pred - y[i])**2\n",
        "    rmse = np.sqrt(rmse/n)\n",
        "    return rmse"
      ],
      "execution_count": null,
      "outputs": []
    },
    {
      "cell_type": "code",
      "metadata": {
        "colab": {
          "base_uri": "https://localhost:8080/",
          "height": 313
        },
        "id": "-idX8r6odHiP",
        "outputId": "1f5e9ca1-4091-45f1-c47a-841ad1218c53"
      },
      "source": [
        "clf = GradientDescentLinearRegression()\n",
        "clf.fit(X,y)\n",
        "plt.scatter(X,y,color='black')\n",
        "plt.plot(X, clf.predict(X))\n",
        "plt.xlabel('Head Size')\n",
        "plt.ylabel('Brain Weight')\n",
        "plt.title(\"Gradient Descent Linear Regression\")\n",
        "plt.show()\n",
        "#compute rmse\n",
        "rmse = clf.rmse(X)\n",
        "print(\"RMSE\",rmse)"
      ],
      "execution_count": null,
      "outputs": [
        {
          "output_type": "display_data",
          "data": {
            "image/png": "[encoded data removed]",
            "text/plain": [
              "<Figure size 432x288 with 1 Axes>"
            ]
          },
          "metadata": {
            "needs_background": "light"
          }
        },
        {
          "output_type": "stream",
          "name": "stdout",
          "text": [
            "RMSE 0.07574196359651633\n"
          ]
        }
      ]
    }
  ]
}