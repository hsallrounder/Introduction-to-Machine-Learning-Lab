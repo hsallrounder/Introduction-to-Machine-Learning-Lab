{
  "nbformat": 4,
  "nbformat_minor": 0,
  "metadata": {
    "colab": {
      "provenance": [],
      "collapsed_sections": [],
      "authorship_tag": "ABX9TyNgmbGFNqMLDBjCsDd+gs0w",
      "include_colab_link": true
    },
    "kernelspec": {
      "name": "python3",
      "display_name": "Python 3"
    },
    "language_info": {
      "name": "python"
    }
  },
  "cells": [
    {
      "cell_type": "markdown",
      "metadata": {
        "id": "view-in-github",
        "colab_type": "text"
      },
      "source": [
        "<a href=\"https://colab.research.google.com/github/hsallrounder/Introduction-to-Machine-Learning-Lab/blob/master/Linear_Regression.ipynb\" target=\"_parent\"><img src=\"https://colab.research.google.com/assets/colab-badge.svg\" alt=\"Open In Colab\"/></a>"
      ]
    },
    {
      "cell_type": "code",
      "metadata": {
        "colab": {
          "base_uri": "https://localhost:8080/",
          "height": 312
        },
        "id": "D3k6S49Up5af",
        "outputId": "8519ee52-a8c6-4307-e5b6-02dc976841a1"
      },
      "source": [
        "import matplotlib.pyplot as plt\n",
        "import numpy as np\n",
        "\n",
        "def eqnofline(p1x,p1y,p2x,p2y):\n",
        "  m = (p2y-p1y)/(p2x-p1x)\n",
        "  c = p1y-(m*p1x)\n",
        "  print(f'Line of equation is: y={m:.2f}*x+{c}')\n",
        "  x=np.array([p1x,p2x])\n",
        "  y=np.array([p1y,p2y])\n",
        "  plt.plot(x,y)\n",
        "  plt.xlabel(\"X-axis\")\n",
        "  plt.ylabel(\"Y-axis\")\n",
        "  plt.title(\"First Line\")\n",
        "  plt.show()\n",
        "\n",
        "\n",
        "eqnofline(3,5,9,10)"
      ],
      "execution_count": null,
      "outputs": [
        {
          "output_type": "stream",
          "name": "stdout",
          "text": [
            "Line of equation is: y=0.83*x+2.5\n"
          ]
        },
        {
          "output_type": "display_data",
          "data": {
            "image/png": "[encoded data removed]",
            "text/plain": [
              "<Figure size 432x288 with 1 Axes>"
            ]
          },
          "metadata": {
            "needs_background": "light"
          }
        }
      ]
    },
    {
      "cell_type": "code",
      "metadata": {
        "colab": {
          "base_uri": "https://localhost:8080/",
          "height": 329
        },
        "id": "Bp-qg0gOsALv",
        "outputId": "0ad77a40-0d2e-4b06-b43a-c4fce27c1363"
      },
      "source": [
        "import math\n",
        "X = [171,151,124,134,156]\n",
        "Y = [80,60,45,50,65]\n",
        "\n",
        "sigmax=0\n",
        "sigmay=0\n",
        "for i in range(len(X)):\n",
        "  sigmax+=X[i]\n",
        "  sigmay+=Y[i]\n",
        "\n",
        "meanx=sigmax/len(X)\n",
        "meany=sigmay/len(Y)\n",
        "X_mx=[]\n",
        "Y_my=[]\n",
        "for i in X:\n",
        "  X_mx.append(i-meanx)\n",
        "for i in Y:\n",
        "  Y_my.append(i-meany)  \n",
        "\n",
        "X_mX_sqr=[]\n",
        "X_mX_Y_mY=[]\n",
        "for i in X_mx:\n",
        "  X_mX_sqr.append(i*i)\n",
        "for i in range(len(X)):\n",
        "  X_mX_Y_mY.append(X_mx[i]*Y_my[i])\n",
        "\n",
        "s_X_mX_sqr=0\n",
        "s_X_mX_Y_mY=0\n",
        "for i in range(len(X)):\n",
        "  s_X_mX_sqr+=X_mX_sqr[i]\n",
        "  s_X_mX_Y_mY+=X_mX_Y_mY[i]\n",
        "m = s_X_mX_Y_mY/s_X_mX_sqr\n",
        "c = meany-(m*meanx)\n",
        "print(f'Line of equation is: y={m:.2f}*x+{c:.2f}')\n",
        "plt.scatter(X,Y, color='Blue', label='Scatter Plot')\n",
        "plt.plot(X,m*np.array(X)+c, color='Orange', label='Regression Line')\n",
        "plt.xlabel(\"X-axis\")\n",
        "plt.ylabel(\"Y-axis\")\n",
        "plt.title(\"Seccond Line using LSM\")\n",
        "plt.legend()\n",
        "plt.show()\n",
        "\n",
        "pred = []\n",
        "for i in X:\n",
        "  y1 = m*i + c\n",
        "  pred.append(y1)\n",
        "s_error=0\n",
        "for i in range(len(X)):\n",
        "  s_error+= (pred[i]-Y[i])*(pred[i]-Y[i])\n",
        "\n",
        "mean = s_error/len(X)\n",
        "print(math.sqrt(mean))"
      ],
      "execution_count": null,
      "outputs": [
        {
          "output_type": "stream",
          "name": "stdout",
          "text": [
            "Line of equation is: y=0.73*x+-47.38\n"
          ]
        },
        {
          "output_type": "display_data",
          "data": {
            "image/png": "[encoded data removed]",
            "text/plain": [
              "<Figure size 432x288 with 1 Axes>"
            ]
          },
          "metadata": {
            "needs_background": "light"
          }
        },
        {
          "output_type": "stream",
          "name": "stdout",
          "text": [
            "2.02479523402097\n"
          ]
        }
      ]
    }
  ]
}